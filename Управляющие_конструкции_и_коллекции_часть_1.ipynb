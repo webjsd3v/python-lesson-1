{
 "cells": [
  {
   "cell_type": "code",
   "execution_count": 1,
   "id": "10b7d7df-f18a-4bcd-84a3-996b73446d16",
   "metadata": {},
   "outputs": [
    {
     "name": "stdout",
     "output_type": "stream",
     "text": [
      "При вводе слова 'test' выдается 'es'\n",
      "При вводе слова 'testing' выдается 't'\n"
     ]
    }
   ],
   "source": [
    "def middle_letters(word):\n",
    "    length = len(word)\n",
    "    if length % 2 == 0:\n",
    "        return word[length // 2 - 1:length // 2 + 1]\n",
    "    else:\n",
    "        return word[length // 2]\n",
    "\n",
    "result_first = middle_letters('test')\n",
    "print(f\"При вводе слова 'test' выдается '{result_first}'\")\n",
    "\n",
    "result_second = middle_letters('testing')\n",
    "print(f\"При вводе слова 'testing' выдается '{result_second}'\")\n"
   ]
  },
  {
   "cell_type": "code",
   "execution_count": 2,
   "id": "2b3c3c1e-cbf1-451f-ba72-4c0f69c16291",
   "metadata": {},
   "outputs": [
    {
     "name": "stdout",
     "output_type": "stream",
     "text": [
      "Идеальные пары:\n",
      "Alex и Emma\n",
      "Arthur и Kate\n",
      "John и Kira\n",
      "Peter и Liza\n",
      "Richard и Trisha\n",
      "Количество мальчиков и девочек должно быть одинаковым.\n"
     ]
    }
   ],
   "source": [
    "def create_couples(boys, girls):\n",
    "    if len(boys) != len(girls):\n",
    "        print(\"Количество мальчиков и девочек должно быть одинаковым.\")\n",
    "        return\n",
    "\n",
    "    sorted_boys = sorted(boys)\n",
    "    sorted_girls = sorted(girls)\n",
    "\n",
    "    print(\"Идеальные пары:\")\n",
    "    for boy, girl in zip(sorted_boys, sorted_girls):\n",
    "        print(f\"{boy} и {girl}\")\n",
    "\n",
    "boys1 = ['Peter', 'Alex', 'John', 'Arthur', 'Richard']\n",
    "girls1 = ['Kate', 'Liza', 'Kira', 'Emma', 'Trisha']\n",
    "\n",
    "create_couples(boys1, girls1)\n",
    "\n",
    "boys2 = ['Peter', 'Alex', 'John', 'Arthur', 'Richard', 'Michael']\n",
    "girls2 = ['Kate', 'Liza', 'Kira', 'Emma', 'Trisha']\n",
    "\n",
    "create_couples(boys2, girls2)\n"
   ]
  },
  {
   "cell_type": "code",
   "execution_count": null,
   "id": "ba7e9deb-2d25-420c-95bb-4e7eb1947082",
   "metadata": {},
   "outputs": [],
   "source": []
  }
 ],
 "metadata": {
  "kernelspec": {
   "display_name": "Python 3 (ipykernel)",
   "language": "python",
   "name": "python3"
  },
  "language_info": {
   "codemirror_mode": {
    "name": "ipython",
    "version": 3
   },
   "file_extension": ".py",
   "mimetype": "text/x-python",
   "name": "python",
   "nbconvert_exporter": "python",
   "pygments_lexer": "ipython3",
   "version": "3.11.6"
  }
 },
 "nbformat": 4,
 "nbformat_minor": 5
}
